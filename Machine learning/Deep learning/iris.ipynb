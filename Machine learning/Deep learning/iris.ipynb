{
 "cells": [
  {
   "cell_type": "markdown",
   "metadata": {},
   "source": [
    "# 對所有 150 朵 鳶尾 花數據 集 進行分類"
   ]
  },
  {
   "cell_type": "code",
   "execution_count": 370,
   "metadata": {},
   "outputs": [],
   "source": [
    "from sklearn import datasets\n",
    "from sklearn.metrics import accuracy_score \n",
    "from sklearn.model_selection import train_test_split \n",
    "from sklearn.preprocessing import StandardScaler, OneHotEncoder\n",
    "import numpy as np\n",
    "\n",
    "from matplotlib.colors import ListedColormap \n",
    "import matplotlib.pyplot as plt"
   ]
  },
  {
   "cell_type": "markdown",
   "metadata": {},
   "source": [
    "### Define tanh && tanh_derivative"
   ]
  },
  {
   "cell_type": "code",
   "execution_count": 371,
   "metadata": {},
   "outputs": [],
   "source": [
    "def tanh(x):     \n",
    "    return (1.0 - np.exp(-2*x))/(1.0 + np.exp(-2*x))\n",
    "\n",
    "def tanh_derivative(x):     \n",
    "    return (1 + tanh(x))*(1 - tanh(x))"
   ]
  },
  {
   "cell_type": "markdown",
   "metadata": {},
   "source": [
    "### Load iris"
   ]
  },
  {
   "cell_type": "code",
   "execution_count": 48,
   "metadata": {},
   "outputs": [],
   "source": [
    "iris = datasets.load_iris()\n",
    "X, y = iris.data[:,(2,3)], iris.target -1"
   ]
  },
  {
   "cell_type": "markdown",
   "metadata": {},
   "source": [
    "### Standardization"
   ]
  },
  {
   "cell_type": "code",
   "execution_count": 372,
   "metadata": {},
   "outputs": [],
   "source": [
    "sr = StandardScaler()\n",
    "X_std = sr.fit_transform(X)"
   ]
  },
  {
   "cell_type": "markdown",
   "metadata": {},
   "source": [
    "### Define NeuralNetwork"
   ]
  },
  {
   "cell_type": "code",
   "execution_count": 373,
   "metadata": {},
   "outputs": [],
   "source": [
    "class NeuralNetwork:\n",
    "    #network consists of a list of integers, indicating \n",
    "    #the number of neurons in each layer\n",
    "    def __init__(self, net_arch): \n",
    "        np.random.seed(0)                  \n",
    "        self.activity = tanh         \n",
    "        self.activity_derivative = tanh_derivative \n",
    "        self.layers = len(net_arch)         \n",
    "        self.steps_per_epoch = 1000\n",
    "        self.arch = net_arch        \n",
    "\n",
    "        self.weights = []         \n",
    "        #range of weight values (-1,1)         \n",
    "        for layer in range(len(net_arch) - 1):             \n",
    "            w = 2*np.random.rand(net_arch[layer] + 1, net_arch[layer+1]) - 1           \n",
    "            self.weights.append(w)\n",
    "\n",
    "    def fit(self, data, labels, learning_rate=0.1, epochs=10):         \n",
    "        #Add bias units to the input layer         \n",
    "        ones = np.ones((1, data.shape[0]))        \n",
    "        Z = np.concatenate((ones.T, data), axis=1)\n",
    "        training = epochs*self.steps_per_epoch\n",
    "\n",
    "\n",
    "        for k in range(training):             \n",
    "            if k % self.steps_per_epoch == 0:                  \n",
    "                print('epochs: {}'.format(k/self.steps_per_epoch), end=\" \")              \n",
    "                print('Accuracy_score: {:.2f}'.format(self.acc(data, labels)))\n",
    "\n",
    "            sample = np.random.randint(data.shape[0])            \n",
    "            y = [Z[sample]]\n",
    "\n",
    "            for i in range(len(self.weights)-1):                     \n",
    "                activation = np.dot(y[i], self.weights[i])                         \n",
    "                activity = self.activity(activation)  \n",
    "                #add the bias for the next layer                     \n",
    "                activity = np.concatenate((np.ones(1), np.array(activity)))                      \n",
    "                y.append(activity)   \n",
    "             \n",
    "            #last layer              \n",
    "            activation = np.dot(y[-1], self.weights[-1])             \n",
    "            activity = self.activity(activation)             \n",
    "            y.append(activity)\n",
    "                    \n",
    "            #error for the output layer             \n",
    "            error = labels[sample] - y[-1]\n",
    "            delta_vec = [error * self.activity_derivative(y[-1])] \n",
    "\n",
    "            #we need to begin from the back from the next to last layer\n",
    "            for i in range(self.layers-2, 0, -1):  \n",
    "                #delta_vec [1].dot(self.weights[i][1:].T)                \n",
    "                error = delta_vec[-1].dot(self.weights[i][1:].T) \n",
    "                error = error*self.activity_derivative(y[i][1:])               \n",
    "                delta_vec.append(error)\n",
    "\n",
    "            # reverse\n",
    "            # [level3(output)->level2(hidden)]  => [level2(hidden)->level3(output)]\n",
    "            delta_vec.reverse()\n",
    "\n",
    "            # backpropagation\n",
    "            # 1. Multiply its output delta and input activation \n",
    "            #    to get the gradient of the weight.\n",
    "            # 2. Subtract a ratio (percentage) of the gradient from the weight\n",
    "            for i in range(len(self.weights)):\n",
    "                layer = y[i].reshape(1, nn.arch[i]+1) \n",
    " \n",
    "                delta = delta_vec[i].reshape(1, nn.arch[i+1])\n",
    "                self.weights[i] += learning_rate * layer.T.dot(delta)\n",
    "\n",
    "    def predict(self, x, acc=False):\n",
    "        x = np.array(x)\n",
    "        if x.shape == (2, ):\n",
    "            val = np.concatenate((np.ones(1), np.array(x)))      \n",
    "            for i in range(0, len(self.weights)):\n",
    "                val = self.activity(np.dot(val, self.weights[i]))\n",
    "                val = np.concatenate((np.ones(1).T, np.array(val)))\n",
    "            if acc:\n",
    "                return np.around(val[1])\n",
    "            return val[1]\n",
    "        else:\n",
    "            val = np.concatenate((np.ones(x.shape[0]).reshape(1, x.shape[0]).T, x), axis=1)\n",
    "            for i in range(0, len(self.weights)):\n",
    "                val = self.activity(np.dot(val, self.weights[i]))\n",
    "                val = np.concatenate((np.ones(x.shape[0]).reshape(1, x.shape[0]).T, np.array(val)), axis=1)\n",
    "            if acc:\n",
    "                return np.around(val[:, 1])\n",
    "            return val[:, 1]\n",
    "    \n",
    "    def plot_decision_regions(self, X, y, points=200):\n",
    "        markers = ('o', '^', 's')\n",
    "        colors = ('red', 'blue', 'green')\n",
    "        cmap = ListedColormap(colors)\n",
    "        # plot the decision surface\n",
    "        x1_min, x1_max = X[:, 0].min() - 1, X[:, 0].max() + 1\n",
    "        x2_min, x2_max = X[:, 1].min() - 1, X[:, 1].max() + 1\n",
    "        \n",
    "        resolution = max(x1_max - x1_min, x2_max - x2_min)/float(points)\n",
    "        #resolution = 0.01\n",
    "     \n",
    "        xx1, xx2 = np.meshgrid(np.arange(x1_min, x1_max, resolution), np.arange(x2_min, x2_max, resolution))\n",
    "        input = np.array([xx1.ravel(), xx2.ravel()]).T \n",
    "        Z = np.empty(0)\n",
    "        for i in range(input.shape[0]):\n",
    "            val = nn.predict(np.array(input[i]), acc=True)\n",
    "            Z = np.append(Z, val)\n",
    "\n",
    "        Z = Z.reshape(xx1.shape)\n",
    "        \n",
    "        plt.pcolormesh(xx1, xx2, Z, cmap=cmap)\n",
    "        plt.xlim(xx1.min(), xx1.max())\n",
    "        plt.ylim(xx2.min(), xx2.max())\n",
    "        # plot all samples\n",
    "\n",
    "        classes = [\"-1\", \"0\", \"1\"]\n",
    "        for idx, cl in enumerate(np.unique(y)):\n",
    "            plt.scatter(x=X[y == cl, 0], y=X[y == cl, 1], alpha=1.0, c=cmap(idx), edgecolor=\"black\",marker=markers[idx], s=80, label=classes[idx])\n",
    "            \n",
    "        plt.xlabel('x-axis')\n",
    "        plt.ylabel('y-axis')\n",
    "        plt.legend(loc='upper left')\n",
    "        plt.show()\n",
    "    \n",
    "    def acc(self, x, y):\n",
    "        return accuracy_score(y , self.predict(x, acc=True))"
   ]
  },
  {
   "cell_type": "markdown",
   "metadata": {},
   "source": [
    "### Train nn [ 2, 200, 1]"
   ]
  },
  {
   "cell_type": "code",
   "execution_count": 374,
   "metadata": {},
   "outputs": [
    {
     "name": "stdout",
     "output_type": "stream",
     "text": [
      "epochs: 0.0 Accuracy_score: 0.67\n",
      "epochs: 1.0 Accuracy_score: 0.78\n",
      "epochs: 2.0 Accuracy_score: 0.80\n",
      "epochs: 3.0 Accuracy_score: 0.81\n",
      "epochs: 4.0 Accuracy_score: 0.89\n",
      "epochs: 5.0 Accuracy_score: 0.71\n",
      "epochs: 6.0 Accuracy_score: 0.92\n",
      "epochs: 7.0 Accuracy_score: 0.93\n",
      "epochs: 8.0 Accuracy_score: 0.86\n",
      "epochs: 9.0 Accuracy_score: 0.95\n"
     ]
    }
   ],
   "source": [
    "nn = NeuralNetwork([2, 200, 1])\n",
    "nn.fit(X_std, y)"
   ]
  },
  {
   "cell_type": "code",
   "execution_count": 375,
   "metadata": {},
   "outputs": [
    {
     "name": "stdout",
     "output_type": "stream",
     "text": [
      "Accuracy_score: 0.97\n"
     ]
    },
    {
     "data": {
      "image/png": "[encoded data removed]",
      "text/plain": [
       "<Figure size 432x288 with 1 Axes>"
      ]
     },
     "metadata": {},
     "output_type": "display_data"
    }
   ],
   "source": [
    "print('Accuracy_score: {:.2f}'.format(nn.acc(X_std, y)))\n",
    "nn.plot_decision_regions(X_std, y)"
   ]
  },
  {
   "cell_type": "markdown",
   "metadata": {},
   "source": [
    "### Train nn [2, 200, 1] in training set"
   ]
  },
  {
   "cell_type": "code",
   "execution_count": 376,
   "metadata": {},
   "outputs": [
    {
     "name": "stdout",
     "output_type": "stream",
     "text": [
      "epochs: 0.0 Accuracy_score: 0.70\n",
      "epochs: 1.0 Accuracy_score: 0.84\n",
      "epochs: 2.0 Accuracy_score: 0.70\n",
      "epochs: 3.0 Accuracy_score: 0.71\n",
      "epochs: 4.0 Accuracy_score: 0.93\n",
      "epochs: 5.0 Accuracy_score: 0.87\n",
      "epochs: 6.0 Accuracy_score: 0.90\n",
      "epochs: 7.0 Accuracy_score: 0.95\n",
      "epochs: 8.0 Accuracy_score: 0.95\n",
      "epochs: 9.0 Accuracy_score: 0.95\n"
     ]
    }
   ],
   "source": [
    "X_train_std, X_test_std, y_train, y_test = train_test_split(X_std, y,test_size=0.3, random_state=0)\n",
    "nn = NeuralNetwork([2, 200, 1])\n",
    "nn.fit(X_train_std, y_train)"
   ]
  },
  {
   "cell_type": "code",
   "execution_count": 377,
   "metadata": {},
   "outputs": [
    {
     "name": "stdout",
     "output_type": "stream",
     "text": [
      "Layers [2, 200, 1]\n",
      "Accuracy_score for training set: 0.95\n",
      "Accuracy_score for testing set: 0.96\n"
     ]
    },
    {
     "data": {
      "image/png": "[encoded data removed]",
      "text/plain": [
       "<Figure size 432x288 with 1 Axes>"
      ]
     },
     "metadata": {},
     "output_type": "display_data"
    }
   ],
   "source": [
    "print('Layers [2, 200, 1]')\n",
    "print('Accuracy_score for training set: {:.2f}'.format(nn.acc(X_train_std, y_train)))\n",
    "print('Accuracy_score for testing set: {:.2f}'.format(nn.acc(X_test_std, y_test)))\n",
    "nn.plot_decision_regions(X_std, y)"
   ]
  },
  {
   "cell_type": "code",
   "execution_count": 378,
   "metadata": {},
   "outputs": [
    {
     "name": "stdout",
     "output_type": "stream",
     "text": [
      "epochs: 0.0 Accuracy_score: 0.24\n",
      "epochs: 1.0 Accuracy_score: 0.66\n",
      "epochs: 2.0 Accuracy_score: 0.94\n",
      "epochs: 3.0 Accuracy_score: 0.90\n",
      "epochs: 4.0 Accuracy_score: 0.92\n",
      "epochs: 5.0 Accuracy_score: 0.91\n",
      "epochs: 6.0 Accuracy_score: 0.96\n",
      "epochs: 7.0 Accuracy_score: 0.98\n",
      "epochs: 8.0 Accuracy_score: 0.95\n",
      "epochs: 9.0 Accuracy_score: 0.96\n"
     ]
    }
   ],
   "source": [
    "nn =  NeuralNetwork([2, 100, 100 , 1])\n",
    "nn.fit(X_train_std, y_train)"
   ]
  },
  {
   "cell_type": "code",
   "execution_count": 380,
   "metadata": {
    "scrolled": false
   },
   "outputs": [
    {
     "name": "stdout",
     "output_type": "stream",
     "text": [
      "Layers [2, 100, 100 , 1]\n",
      "Accuracy_score for training set: 0.96\n",
      "Accuracy_score for testing set: 0.98\n"
     ]
    },
    {
     "data": {
      "image/png": "[encoded data removed]",
      "text/plain": [
       "<Figure size 432x288 with 1 Axes>"
      ]
     },
     "metadata": {},
     "output_type": "display_data"
    }
   ],
   "source": [
    "print('Layers [2, 100, 100 , 1]')\n",
    "print('Accuracy_score for training set: {:.2f}'.format(nn.acc(X_train_std, y_train)))\n",
    "print('Accuracy_score for testing set: {:.2f}'.format(nn.acc(X_test_std, y_test)))\n",
    "nn.plot_decision_regions(X_std, y)"
   ]
  },
  {
   "cell_type": "markdown",
   "metadata": {},
   "source": [
    "**為何Neurol數相同但Depth比較深的神經網路會比較好?**  \n",
    "就實務上而言flat network選對Activation function與loss function的確能fit很多模型  \n",
    "但hidden layer只有一層能影響hidden layer的只有input  \n",
    "如果hidden layer有很多層比如二層好了  \n",
    "第二層會被第一層的hidden layer與input layer影響  \n",
    "直觀來說模型會比較契合真正的function  "
   ]
  },
  {
   "cell_type": "markdown",
   "metadata": {},
   "source": [
    "### 將輸出層的 Activation  Function 改為 Softmax"
   ]
  },
  {
   "cell_type": "code",
   "execution_count": 340,
   "metadata": {},
   "outputs": [],
   "source": [
    "def softmax(x):\n",
    "    return np.exp(x)/ np.exp(x).sum()\n",
    "\n",
    "def softmax_derivative(x):\n",
    "    jacobaian_m = np.diag(x)\n",
    "    for i in range(len(jacobaian_m)):\n",
    "        for j in range(len(jacobaian_m)):\n",
    "            if i == j:\n",
    "                jacobaian_m[i][j] = x[i]*(1-x[i])\n",
    "            else:\n",
    "                jacobaian_m[i][j] = -x[i]*x[j]\n",
    "    return np.diag(jacobaian_m)"
   ]
  },
  {
   "cell_type": "code",
   "execution_count": 382,
   "metadata": {},
   "outputs": [],
   "source": [
    "class SoftmaxNeuralNetwork:\n",
    "    def __init__(self, net_arch): \n",
    "        np.random.seed(0)                  \n",
    "        self.activity = tanh         \n",
    "        self.activity_derivative = tanh_derivative \n",
    "        self.layers = len(net_arch)         \n",
    "        self.steps_per_epoch = 1000\n",
    "        self.arch = net_arch        \n",
    "        self.softmax = softmax\n",
    "        self.softmax_derivative = softmax_derivative\n",
    "        \n",
    "        self.weights = []         \n",
    "        #range of weight values (-1,1)         \n",
    "        for layer in range(len(net_arch) - 1):             \n",
    "            w = 2*np.random.rand(net_arch[layer] + 1, net_arch[layer+1]) - 1           \n",
    "            self.weights.append(w)\n",
    "\n",
    "    \n",
    "    def fit(self, data, labels, learning_rate=0.1, epochs=10):         \n",
    "        #Add bias units to the input layer         \n",
    "        ones = np.ones((1, data.shape[0]))        \n",
    "        Z = np.concatenate((ones.T, data), axis=1)\n",
    "        training = epochs*self.steps_per_epoch\n",
    "        for k in range(training):             \n",
    "            if k % self.steps_per_epoch == 0:                  \n",
    "                print('epochs: {}'.format(k/self.steps_per_epoch), end=\" \")\n",
    "                print('Accuracy_score: {:.2f}'.format(self.acc(data, labels)))\n",
    "\n",
    "            sample = np.random.randint(data.shape[0])            \n",
    "            y = [Z[sample]]\n",
    "\n",
    "            for i in range(len(self.weights)-1):\n",
    "                activation = np.dot(y[i], self.weights[i])                         \n",
    "                activity = self.activity(activation)  \n",
    "                #add the bias for the next layer                     \n",
    "                activity = np.concatenate((np.ones(1), np.array(activity)))                      \n",
    "                y.append(activity)   \n",
    "            \n",
    "            #last layer              \n",
    "            activation = np.dot(y[-1], self.weights[-1])             \n",
    "            activity = self.softmax(activation)\n",
    "            y.append(activity)\n",
    "                    \n",
    "            #error for the output layer             \n",
    "            error = labels[sample] - y[-1]             \n",
    "            delta_vec = [error * self.softmax_derivative(y[-1])] \n",
    "\n",
    "            #we need to begin from the back from the next to last layer\n",
    "            for i in range(self.layers-2, 0, -1):  \n",
    "                #delta_vec [1].dot(self.weights[i][1:].T)                \n",
    "                error = delta_vec[-1].dot(self.weights[i][1:].T) \n",
    "                error = error*self.activity_derivative(y[i][1:])               \n",
    "                delta_vec.append(error)\n",
    "\n",
    "            # reverse\n",
    "            # [level3(output)->level2(hidden)]  => [level2(hidden)->level3(output)]\n",
    "            delta_vec.reverse()\n",
    "\n",
    "            # backpropagation\n",
    "            # 1. Multiply its output delta and input activation \n",
    "            #    to get the gradient of the weight.\n",
    "            # 2. Subtract a ratio (percentage) of the gradient from the weight\n",
    "            for i in range(len(self.weights)):\n",
    "                layer = y[i].reshape(1, nn.arch[i]+1) \n",
    " \n",
    "                delta = delta_vec[i].reshape(1, nn.arch[i+1])\n",
    "                self.weights[i] += learning_rate * layer.T.dot(delta)\n",
    "\n",
    "    def predict(self, x, acc = False):\n",
    "        x = np.array(x)\n",
    "        if x.shape == (2, ):\n",
    "            val = np.concatenate((np.ones(1), np.array(x)))      \n",
    "            for i in range(0, len(self.weights) - 1):\n",
    "                val = self.activity(np.dot(val, self.weights[i]))\n",
    "                val = np.concatenate((np.ones(1).T, np.array(val)))\n",
    "            if acc:\n",
    "                return np.argmax(self.softmax(np.dot(val, self.weights[-1])))\n",
    "            return self.softmax(np.dot(val, self.weights[-1]))\n",
    "        else:\n",
    "            val = np.concatenate((np.ones(x.shape[0]).reshape(1, x.shape[0]).T, x), axis=1)\n",
    "            for i in range(0, len(self.weights) - 1):\n",
    "                val = self.activity(np.dot(val, self.weights[i]))\n",
    "                val = np.concatenate((np.ones(x.shape[0]).reshape(1, x.shape[0]).T, np.array(val)), axis=1)\n",
    "            if acc:\n",
    "                return np.argmax(self.softmax(np.dot(val, self.weights[-1])), axis=1)\n",
    "            return self.softmax(np.dot(val, self.weights[-1]))\n",
    "        \n",
    "    def acc(self, x, y):\n",
    "        return accuracy_score(np.argmax(y, axis=1) , self.predict(x, acc=True))\n",
    "    \n",
    "        \n",
    "    def plot_decision_regions(self, X, y, points=200):\n",
    "        markers = ('o', '^', 's')\n",
    "        colors = ('red', 'blue', 'green')\n",
    "        cmap = ListedColormap(colors)\n",
    "        # plot the decision surface\n",
    "        x1_min, x1_max = X[:, 0].min() - 1, X[:, 0].max() + 1\n",
    "        x2_min, x2_max = X[:, 1].min() - 1, X[:, 1].max() + 1\n",
    "        \n",
    "        resolution = max(x1_max - x1_min, x2_max - x2_min)/float(points)\n",
    "        #resolution = 0.01\n",
    "     \n",
    "        xx1, xx2 = np.meshgrid(np.arange(x1_min, x1_max, resolution), np.arange(x2_min, x2_max, resolution))\n",
    "        input = np.array([xx1.ravel(), xx2.ravel()]).T \n",
    "        Z = np.empty(0)\n",
    "        for i in range(input.shape[0]):\n",
    "            val = nn.predict(np.array(input[i]), acc=True)\n",
    "            Z = np.append(Z, val)\n",
    "\n",
    "        Z = Z.reshape(xx1.shape)\n",
    "        \n",
    "        plt.pcolormesh(xx1, xx2, Z, cmap=cmap)\n",
    "        plt.xlim(xx1.min(), xx1.max())\n",
    "        plt.ylim(xx2.min(), xx2.max())\n",
    "        # plot all samples\n",
    "        y = np.argmax(y, axis=1)\n",
    "        classes = [\"0\", \"1\", \"2\"]\n",
    "        for idx, cl in enumerate(np.unique(y)):\n",
    "            plt.scatter(x=X[y == cl, 0], y=X[y == cl, 1], alpha=1.0, c=cmap(idx), edgecolor=\"black\",marker=markers[idx], s=80, label=classes[idx])\n",
    "            \n",
    "        plt.xlabel('x-axis')\n",
    "        plt.ylabel('y-axis')\n",
    "        plt.legend(loc='upper left')\n",
    "        plt.show()"
   ]
  },
  {
   "cell_type": "code",
   "execution_count": 383,
   "metadata": {},
   "outputs": [],
   "source": [
    "oh = OneHotEncoder(sparse=0)\n",
    "y_oh = oh.fit_transform((y+1).reshape(-1,1))\n",
    "X_train_std, X_test_std, y_train_oh, y_test_oh = train_test_split(X_std, y_oh,test_size=0.3, random_state=0)"
   ]
  },
  {
   "cell_type": "code",
   "execution_count": 396,
   "metadata": {},
   "outputs": [
    {
     "name": "stdout",
     "output_type": "stream",
     "text": [
      "epochs: 0.0 Accuracy_score: 0.70\n",
      "epochs: 1.0 Accuracy_score: 0.93\n",
      "epochs: 2.0 Accuracy_score: 0.95\n",
      "epochs: 3.0 Accuracy_score: 0.94\n",
      "epochs: 4.0 Accuracy_score: 0.95\n",
      "epochs: 5.0 Accuracy_score: 0.95\n",
      "epochs: 6.0 Accuracy_score: 0.95\n",
      "epochs: 7.0 Accuracy_score: 0.95\n",
      "epochs: 8.0 Accuracy_score: 0.95\n",
      "epochs: 9.0 Accuracy_score: 0.95\n"
     ]
    }
   ],
   "source": [
    "nn = SoftmaxNeuralNetwork([2, 50, 3])\n",
    "nn.fit(X_train_std, y_train_oh)"
   ]
  },
  {
   "cell_type": "code",
   "execution_count": 397,
   "metadata": {},
   "outputs": [
    {
     "name": "stdout",
     "output_type": "stream",
     "text": [
      "Layers [2, 50, 3]\n",
      "Accuracy_score for training set: 0.96\n",
      "Accuracy_score for testing set: 0.98\n"
     ]
    },
    {
     "data": {
      "image/png": "[encoded data removed]",
      "text/plain": [
       "<Figure size 432x288 with 1 Axes>"
      ]
     },
     "metadata": {},
     "output_type": "display_data"
    }
   ],
   "source": [
    "print('Layers [2, 50, 3]')\n",
    "print('Accuracy_score for training set: {:.2f}'.format(nn.acc(X_train_std, y_train_oh)))\n",
    "print('Accuracy_score for testing set: {:.2f}'.format(nn.acc(X_test_std, y_test_oh)))\n",
    "nn.plot_decision_regions(X_std, y_oh)"
   ]
  }
 ],
 "metadata": {
  "kernelspec": {
   "display_name": "Python 3",
   "language": "python",
   "name": "python3"
  },
  "language_info": {
   "codemirror_mode": {
    "name": "ipython",
    "version": 3
   },
   "file_extension": ".py",
   "mimetype": "text/x-python",
   "name": "python",
   "nbconvert_exporter": "python",
   "pygments_lexer": "ipython3",
   "version": "3.6.5"
  }
 },
 "nbformat": 4,
 "nbformat_minor": 2
}
