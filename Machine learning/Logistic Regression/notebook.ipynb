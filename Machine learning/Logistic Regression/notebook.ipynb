{
 "cells": [
  {
   "cell_type": "markdown",
   "metadata": {},
   "source": [
    "# Logistic Regression\n",
    "[source](https://www.youtube.com/watch?v=hSXFuypLukA)\n",
    "### Step 1: Function Set  \n",
    "We want to find $P_{w,b}(C1|x)$  \n",
    "if $P_{w,b}(C_1|x) \\geq 0.5$, output $C_1$, otherwise, output $C_2$  \n",
    "\n",
    "$P_{w,b}(C_1|x) = \\sigma(z)$  \n",
    "$$z = w \\cdot x + b = \\sum_{i}wi xi + b \\\\  \n",
    "\\sigma(z) = \\frac{1}{1+exp(-z)}$$  \n",
    "\n",
    "$\\begin{equation}\n",
    "\\large{f_{w,b}(x) = \\sigma(\\sum_{i}w_i x_i + b)}  \n",
    "\\end{equation}$  \n",
    "Output should between 0 and 1\n",
    "\n",
    "\n",
    "### Step 2: Goodness of a Function\n",
    "Training Data$\n",
    "\\ x^1 \\ x^2 \\ x^3 \\ ... \\ x^N \\\\\n",
    "\\ C_1 \\ C_2 \\ C_1 \\ ... \\ C_1 \n",
    "$  \n",
    "Assume the data is generated based on $f_{w,b}(x) = P_{w,b}(C_1|x)$  \n",
    "Given a set of w and b, what is its probability of generating the data?  \n",
    "$\\begin{equation}\n",
    "\\large L(w,b) = f_{w,b}(x^)(1 - f_{w,b}(x^2))f_{w,b}(x^3)...f_{w,b}(x^N)\n",
    "\\end{equation}$  \n",
    "\n",
    "The most likely $w^*$ and $b^*$ is the one with the largest $L(w,b)$.  \n",
    "\n",
    "$$w^*,b^* = arg\\ max_{w,b}L(w,b) = \n",
    "w^*, b^* = arg\\min_{w,b}-lnL(w,b)$$  \n",
    "$$\n",
    "x^1 \\qquad x^2 \\qquad x^3 \\qquad ... \\\\\n",
    "\\hat{y}^1=1 \\quad \\hat{y}^2=0 \\quad \\hat{y}^3=1 ... \\\\\n",
    "\\hat{y}^n : 1 \\text{ for class 1, 0 for class 2}\n",
    "$$\n",
    "\n",
    "![](https://i.imgur.com/XLf637A.png)\n",
    "右側省略w,b\n",
    "![](https://i.imgur.com/KwOoxof.png)\n",
    "左右兩側相等, 故可寫成下列公式\n",
    "$$\n",
    "\\large{\\sum_{n}-[\\hat{y}^n ln f_{w,b}(x^n) + (1-\\hat{y}^n) ln (1- f_{w,b}(x^n))]} \\\\\n",
    "\\text{Cross entropy between two Bernoulli distribution}\n",
    "$$  \n",
    "![](https://i.imgur.com/hWqSvle.png)"
   ]
  },
  {
   "cell_type": "markdown",
   "metadata": {},
   "source": [
    "### Step 3: Find the best function\n",
    "\n",
    "![](https://i.imgur.com/c1SeLQM.png)\n",
    "![](https://i.imgur.com/YmQ3YJC.png)\n",
    "![](https://i.imgur.com/jPCwGKj.png)"
   ]
  },
  {
   "cell_type": "markdown",
   "metadata": {},
   "source": [
    "![](https://i.imgur.com/EMEBcGJ.png)"
   ]
  },
  {
   "cell_type": "markdown",
   "metadata": {},
   "source": [
    "![](https://i.imgur.com/9MB751M.png)"
   ]
  }
 ],
 "metadata": {
  "kernelspec": {
   "display_name": "Python 3",
   "language": "python",
   "name": "python3"
  },
  "language_info": {
   "codemirror_mode": {
    "name": "ipython",
    "version": 3
   },
   "file_extension": ".py",
   "mimetype": "text/x-python",
   "name": "python",
   "nbconvert_exporter": "python",
   "pygments_lexer": "ipython3",
   "version": "3.6.5"
  }
 },
 "nbformat": 4,
 "nbformat_minor": 2
}
