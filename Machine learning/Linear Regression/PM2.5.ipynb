{
 "cells": [
  {
   "cell_type": "markdown",
   "metadata": {},
   "source": [
    "![](https://i.imgur.com/8qAo0Hu.png)\n",
    "![](https://i.imgur.com/i784w5j.png)\n",
    "\n",
    "**不能使用現成套件，只能使用numpy、scipy以及pandas。  \n",
    "( Standard library可以 )  \n",
    "(numpy.linalg.lstsq是不可以用的!!!)  **"
   ]
  },
  {
   "cell_type": "code",
   "execution_count": 58,
   "metadata": {},
   "outputs": [],
   "source": [
    "import csv \n",
    "import numpy as np\n",
    "from numpy.linalg import inv\n",
    "import random\n",
    "import math\n",
    "import sys"
   ]
  },
  {
   "cell_type": "markdown",
   "metadata": {},
   "source": [
    "## Training set\n",
    "![](https://i.imgur.com/n6XjsIC.png) \n",
    "features 總共18種  \n",
    "Each line represents one day  \n",
    "Take 1-9 to predict 10, 2-10 to predict 11 .... , 14-23 to predict 24"
   ]
  },
  {
   "cell_type": "code",
   "execution_count": 59,
   "metadata": {},
   "outputs": [],
   "source": [
    "data = []\n",
    "# 每一個維度儲存一種污染物的資訊\n",
    "for i in range(18):\n",
    "    data.append([])\n",
    "\n",
    "n_row = 0\n",
    "text = open('data/train.csv', 'r', encoding='big5') \n",
    "row = csv.reader(text , delimiter=\",\")\n",
    "for r in row:\n",
    "    # 第0列沒有資訊\n",
    "    if n_row != 0:\n",
    "        # 每一列只有第3-27格有值(1天內24小時的數值)\n",
    "        # data shape == (18, 5760) 12個月*20天*24小時\n",
    "        for i in range(3,27):\n",
    "            if r[i] != \"NR\":\n",
    "                data[(n_row-1)%18].append(float(r[i]))\n",
    "            else:\n",
    "                data[(n_row-1)%18].append(float(0))\n",
    "    n_row = n_row+1\n",
    "text.close()\n",
    "\n",
    "x = []\n",
    "y = []\n",
    "# 每 12 個月\n",
    "for i in range(12):\n",
    "    # 一個月取連續10小時的data可以有471筆 \n",
    "    # 20 * 24 - 9 = 471\n",
    "    for j in range(471):\n",
    "        x.append([])\n",
    "        # 18種污染物\n",
    "        for t in range(18):\n",
    "            # 連續9小時\n",
    "            for s in range(9):\n",
    "                x[471*i+j].append(data[t][480*i+j+s] )\n",
    "        y.append(data[9][480*i+j+9])\n",
    "x = np.array(x)\n",
    "y = np.array(y)\n",
    "\n",
    "\n",
    "# Add square term\n",
    "# If your model is \n",
    "# y = b + w(1,pm)*x(1,pm) + w(1,pm)*(x(1,pm)**2) + w(2,pm)*x(2,pm) + w(2,pm)*(x(2,pm)**2) ....\n",
    "# x = np.concatenate((x,x**2), axis=1)\n",
    "\n",
    "# add bias\n",
    "x = np.concatenate((np.ones((x.shape[0],1)),x), axis=1)"
   ]
  },
  {
   "cell_type": "markdown",
   "metadata": {},
   "source": [
    "## validation set"
   ]
  },
  {
   "cell_type": "code",
   "execution_count": 60,
   "metadata": {},
   "outputs": [],
   "source": [
    "# Set random seed\n",
    "np.random.seed(0)\n",
    "x_idx = np.arange(x.shape[0])\n",
    "train_size = int(x.shape[0]*0.7)\n",
    "training_idx = np.random.choice(x_idx, size=train_size, replace=False)\n",
    "testing_idx = np.setdiff1d(x_idx, training_idx)\n",
    "X_train, y_train, X_test, y_test = x[training_idx], y[training_idx], x[testing_idx], y[testing_idx]"
   ]
  },
  {
   "cell_type": "markdown",
   "metadata": {},
   "source": [
    "![](https://i.imgur.com/rgf9RBd.png)"
   ]
  },
  {
   "cell_type": "markdown",
   "metadata": {},
   "source": [
    "## Loss function\n",
    "$\\begin{equation}\n",
    "\\large{L(w,b) = \\frac{1}{2}\\sum_{n=0}^{N}(\\hat{y}^n - (b + w \\cdot x^n))^2} \\\\\n",
    "\\large{\\frac{\\partial L}{\\partial w} = \\sum_{n=0}^{N}(\\hat{y}^n - (b + w \\cdot x^n))}(-x^n) \\\\\n",
    "\\large{\\frac{\\partial L}{\\partial b} = \\sum_{n=0}^{N}(\\hat{y}^n - (b + w \\cdot x^n))}(-1)\\\\\n",
    "\\end{equation}$\n",
    "## Adagrad\n",
    "![](https://i.imgur.com/FEv1XCm.png)\n",
    "![](https://i.imgur.com/0QNEqUe.png)"
   ]
  },
  {
   "cell_type": "code",
   "execution_count": 61,
   "metadata": {},
   "outputs": [
    {
     "name": "stdout",
     "output_type": "stream",
     "text": [
      "iteration: 0 / 10000 | Cost:26.8878  \n",
      "iteration: 500 / 10000 | Cost:7.6084  \n",
      "iteration: 1000 / 10000 | Cost:7.0088  \n",
      "iteration: 1500 / 10000 | Cost:6.7119  \n",
      "iteration: 2000 / 10000 | Cost:6.5260  \n",
      "iteration: 2500 / 10000 | Cost:6.3971  \n",
      "iteration: 3000 / 10000 | Cost:6.3018  \n",
      "iteration: 3500 / 10000 | Cost:6.2280  \n",
      "iteration: 4000 / 10000 | Cost:6.1691  \n",
      "iteration: 4500 / 10000 | Cost:6.1207  \n",
      "iteration: 5000 / 10000 | Cost:6.0802  \n",
      "iteration: 5500 / 10000 | Cost:6.0458  \n",
      "iteration: 6000 / 10000 | Cost:6.0161  \n",
      "iteration: 6500 / 10000 | Cost:5.9903  \n",
      "iteration: 7000 / 10000 | Cost:5.9677  \n",
      "iteration: 7500 / 10000 | Cost:5.9476  \n",
      "iteration: 8000 / 10000 | Cost:5.9297  \n",
      "iteration: 8500 / 10000 | Cost:5.9136  \n",
      "iteration: 9000 / 10000 | Cost:5.8991  \n",
      "iteration: 9500 / 10000 | Cost:5.8859  \n",
      "iteration: 10000 / 10000 | Cost:5.8739  \n"
     ]
    }
   ],
   "source": [
    "w = np.zeros(X_train.shape[1])\n",
    "l_rate = 10\n",
    "repeat = 10000\n",
    "\n",
    "\n",
    "# use close form to check whether ur gradient descent is good\n",
    "# however, this cannot be used in hw1.sh \n",
    "w_close_form = np.matmul(np.matmul(inv(np.matmul(x.transpose(),x)),x.transpose()),y)\n",
    "\n",
    "s_gra = np.zeros(len(x[0]))\n",
    "\n",
    "for i in range(repeat+1):\n",
    "    hypo = np.dot(X_train, w) \n",
    "    loss = hypo - y_train # Loss function\n",
    "    gra = np.dot(X_train.T,loss)\n",
    "    s_gra += gra**2\n",
    "    ada = np.sqrt(s_gra)\n",
    "    w = w - l_rate * gra/ada # Adagrad\n",
    "    if  not i % 500:\n",
    "        cost = np.sum(loss**2) / X_train.shape[0]\n",
    "        cost_a  = math.sqrt(cost)\n",
    "        print ('iteration: {} / {} | Cost:{:.4f}  '.format( i, repeat,cost_a))"
   ]
  },
  {
   "cell_type": "code",
   "execution_count": 62,
   "metadata": {},
   "outputs": [
    {
     "name": "stdout",
     "output_type": "stream",
     "text": [
      "Test set cost: 3.9014\n",
      "Predict: [21.02803603 42.02269111 25.96815356 ...  3.37310476 35.88128301\n",
      " 21.64747507]\n",
      "Label: [30. 42. 22. ...  7. 49. 17.]\n"
     ]
    }
   ],
   "source": [
    "# predict\n",
    "hypo = np.dot(X_test, w)\n",
    "loss = hypo - y_test\n",
    "cost_a = math.sqrt(np.sum(loss**2)/X_train.shape[0])\n",
    "print('Test set cost: {:.4f}'.format(cost_a))\n",
    "print('Predict: {}'.format(hypo))\n",
    "print('Label: {}'.format(y_test))"
   ]
  },
  {
   "cell_type": "markdown",
   "metadata": {},
   "source": [
    "## 標準化\n",
    "![](https://i.imgur.com/3cfTZ7W.png)"
   ]
  },
  {
   "cell_type": "code",
   "execution_count": 63,
   "metadata": {},
   "outputs": [
    {
     "name": "stdout",
     "output_type": "stream",
     "text": [
      "iteration: 0 / 10000 | Cost:26.8878  \n",
      "iteration: 500 / 10000 | Cost:6.0724  \n",
      "iteration: 1000 / 10000 | Cost:5.8415  \n",
      "iteration: 1500 / 10000 | Cost:5.7586  \n",
      "iteration: 2000 / 10000 | Cost:5.7187  \n",
      "iteration: 2500 / 10000 | Cost:5.6971  \n",
      "iteration: 3000 / 10000 | Cost:5.6848  \n",
      "iteration: 3500 / 10000 | Cost:5.6776  \n",
      "iteration: 4000 / 10000 | Cost:5.6732  \n",
      "iteration: 4500 / 10000 | Cost:5.6705  \n",
      "iteration: 5000 / 10000 | Cost:5.6688  \n",
      "iteration: 5500 / 10000 | Cost:5.6677  \n",
      "iteration: 6000 / 10000 | Cost:5.6669  \n",
      "iteration: 6500 / 10000 | Cost:5.6663  \n",
      "iteration: 7000 / 10000 | Cost:5.6659  \n",
      "iteration: 7500 / 10000 | Cost:5.6655  \n",
      "iteration: 8000 / 10000 | Cost:5.6652  \n",
      "iteration: 8500 / 10000 | Cost:5.6650  \n",
      "iteration: 9000 / 10000 | Cost:5.6647  \n",
      "iteration: 9500 / 10000 | Cost:5.6645  \n",
      "iteration: 10000 / 10000 | Cost:5.6643  \n"
     ]
    }
   ],
   "source": [
    "x_std = []\n",
    "means = []\n",
    "stds = []\n",
    "for i in range(1, x.shape[1]):\n",
    "    mean = np.mean(x[:,i])\n",
    "    std = np.std(x[:,i])\n",
    "    x_std.append(((x[:, i] - mean)/std))\n",
    "    stds.append(std)\n",
    "    means.append(mean)\n",
    "x_std = np.concatenate((np.ones((1, x.shape[0])), x_std)).T\n",
    "X_train_std, X_test_std = x_std[training_idx], x_std[testing_idx]\n",
    "\n",
    "w_std = np.zeros(X_train.shape[1])\n",
    "l_rate = 10\n",
    "\n",
    "s_gra = np.zeros(len(x[0]))\n",
    "\n",
    "for i in range(repeat+1):\n",
    "    hypo = np.dot(X_train_std, w_std) \n",
    "    loss = hypo - y_train # Loss function\n",
    "    gra = np.dot(X_train_std.T,loss)\n",
    "    s_gra += gra**2\n",
    "    ada = np.sqrt(s_gra)\n",
    "    w_std = w_std - l_rate * gra/ada # Adagrad\n",
    "    if  not i % 500:\n",
    "        cost = np.sum(loss**2) / X_train.shape[0]\n",
    "        cost_a  = math.sqrt(cost)\n",
    "        print ('iteration: {} / {} | Cost:{:.4f}  '.format( i, repeat,cost_a))"
   ]
  },
  {
   "cell_type": "code",
   "execution_count": 64,
   "metadata": {},
   "outputs": [
    {
     "name": "stdout",
     "output_type": "stream",
     "text": [
      "Test_std set cost: 3.8352\n",
      "Predict: [21.35042856 42.15397482 27.42859766 ...  3.83940181 37.79955571\n",
      " 20.45109027]\n",
      "Label: [30. 42. 22. ...  7. 49. 17.]\n"
     ]
    }
   ],
   "source": [
    "# predict with std\n",
    "hypo = np.dot(X_test_std, w_std)\n",
    "loss = hypo - y_test\n",
    "cost_a = math.sqrt(np.sum(loss**2)/X_train.shape[0])\n",
    "print('Test_std set cost: {:.4f}'.format(cost_a))\n",
    "print('Predict: {}'.format(hypo))\n",
    "print('Label: {}'.format(y_test))"
   ]
  },
  {
   "cell_type": "markdown",
   "metadata": {},
   "source": [
    "![](https://i.imgur.com/fFFsIkU.png)"
   ]
  },
  {
   "cell_type": "code",
   "execution_count": 65,
   "metadata": {},
   "outputs": [],
   "source": [
    "test_x = []\n",
    "n_row = 0\n",
    "text = open('data/test.csv' ,\"r\")\n",
    "row = csv.reader(text , delimiter= \",\")\n",
    "\n",
    "for r in row:\n",
    "    if n_row %18 == 0:\n",
    "        test_x.append([])\n",
    "        for i in range(2,11):\n",
    "            test_x[n_row//18].append(float(r[i]) )\n",
    "    else :\n",
    "        for i in range(2,11):\n",
    "            if r[i] !=\"NR\":\n",
    "                test_x[n_row//18].append(float(r[i]))\n",
    "            else:\n",
    "                test_x[n_row//18].append(0)\n",
    "    n_row = n_row+1\n",
    "text.close()\n",
    "test_x = np.array(test_x)\n",
    "\n",
    "# Add square term\n",
    "# If your model is \n",
    "# y = b + w(1,pm)*x(1,pm) + w(1,pm)*(x(1,pm)**2) + w(2,pm)*x(2,pm) + w(2,pm)*(x(2,pm)**2) ....\n",
    "# test_x = np.concatenate((test_x,test_x**2), axis=1)\n",
    "\n",
    "n_row = 0\n",
    "\n",
    "ans_text = open('data/ans.csv', \"r\")\n",
    "row = csv.reader(ans_text, delimiter=',')\n",
    "ans = []\n",
    "for i,r in enumerate(row):\n",
    "    if i != 0:\n",
    "        ans.append(r[1])\n",
    "ans = np.array(ans).astype(np.float64)\n",
    "\n",
    "test_x_std = []\n",
    "\n",
    "for i, (mean, std) in enumerate(zip(means, stds)):\n",
    "    test_x_std.append((test_x[:,i]-mean)/std)\n",
    "test_x_std = np.concatenate((np.ones((1, test_x.shape[0])), test_x_std)).T\n",
    "test_x = np.concatenate((np.ones((test_x.shape[0], 1)), test_x), axis=1)"
   ]
  },
  {
   "cell_type": "code",
   "execution_count": 66,
   "metadata": {},
   "outputs": [
    {
     "name": "stdout",
     "output_type": "stream",
     "text": [
      "test_x set cost: 6.9051\n",
      "test_x_std set cost: 6.6682\n"
     ]
    }
   ],
   "source": [
    "# predict\n",
    "hypo = np.dot(test_x, w)\n",
    "loss = hypo - ans\n",
    "cost_a = math.sqrt(np.sum(loss**2)/test_x.shape[0])\n",
    "print('test_x set cost: {:.4f}'.format(cost_a))\n",
    "\n",
    "# predict with std\n",
    "hypo = np.dot(test_x_std, w_std)\n",
    "loss = hypo - ans\n",
    "cost_a = math.sqrt(np.sum(loss**2)/test_x_std.shape[0])\n",
    "print('test_x_std set cost: {:.4f}'.format(cost_a))"
   ]
  },
  {
   "cell_type": "code",
   "execution_count": 67,
   "metadata": {},
   "outputs": [
    {
     "name": "stdout",
     "output_type": "stream",
     "text": [
      "test_x set cost: 6.5700\n"
     ]
    }
   ],
   "source": [
    "# predict with close_form_solution\n",
    "hypo = np.dot(test_x, w_close_form)\n",
    "loss = hypo - ans\n",
    "cost_a = math.sqrt(np.sum(loss**2)/test_x.shape[0])\n",
    "print('test_x set cost: {:.4f}'.format(cost_a))"
   ]
  }
 ],
 "metadata": {
  "kernelspec": {
   "display_name": "Python 3",
   "language": "python",
   "name": "python3"
  },
  "language_info": {
   "codemirror_mode": {
    "name": "ipython",
    "version": 3
   },
   "file_extension": ".py",
   "mimetype": "text/x-python",
   "name": "python",
   "nbconvert_exporter": "python",
   "pygments_lexer": "ipython3",
   "version": "3.6.5"
  }
 },
 "nbformat": 4,
 "nbformat_minor": 2
}
